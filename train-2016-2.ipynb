{
 "cells": [
  {
   "cell_type": "code",
   "execution_count": 1,
   "metadata": {},
   "outputs": [],
   "source": [
    "import numpy as np\n",
    "import pandas as pd\n",
    "from sklearn.ensemble import RandomForestRegressor\n",
    "from scipy.stats import pearsonr\n",
    "from sklearn.model_selection import GridSearchCV\n",
    "import joblib"
   ]
  },
  {
   "cell_type": "code",
   "execution_count": 65,
   "metadata": {},
   "outputs": [
    {
     "data": {
      "text/plain": [
       "(3767, 290)"
      ]
     },
     "execution_count": 65,
     "metadata": {},
     "output_type": "execute_result"
    }
   ],
   "source": [
    "selected_columns = [0, 1, 2, 3, 6, 10, 11, 12, 15, 19, 20, 21, 24, 28, 29, 30, 33, 37, 38, 39, 42, 46, 47, 48, 51, 55, 56, 57, 60, 64, 65, 66, 69, 73, 74, 75, 78]\n",
    "train_df = pd.read_csv(\"PDBbind_refined16-core16.csv\", usecols=selected_columns)\n",
    "test_df = pd.read_csv(\"PDBbind_core16.csv\", usecols=selected_columns)\n",
    "len(train_df), len(test_df)"
   ]
  },
  {
   "cell_type": "code",
   "execution_count": 66,
   "metadata": {},
   "outputs": [
    {
     "data": {
      "text/html": [
       "<div>\n",
       "<style scoped>\n",
       "    .dataframe tbody tr th:only-of-type {\n",
       "        vertical-align: middle;\n",
       "    }\n",
       "\n",
       "    .dataframe tbody tr th {\n",
       "        vertical-align: top;\n",
       "    }\n",
       "\n",
       "    .dataframe thead th {\n",
       "        text-align: right;\n",
       "    }\n",
       "</style>\n",
       "<table border=\"1\" class=\"dataframe\">\n",
       "  <thead>\n",
       "    <tr style=\"text-align: right;\">\n",
       "      <th></th>\n",
       "      <th>pbindaff</th>\n",
       "      <th>6.6</th>\n",
       "      <th>7.6</th>\n",
       "      <th>8.6</th>\n",
       "      <th>16.6</th>\n",
       "      <th>6.7</th>\n",
       "      <th>7.7</th>\n",
       "      <th>8.7</th>\n",
       "      <th>16.7</th>\n",
       "      <th>6.8</th>\n",
       "      <th>...</th>\n",
       "      <th>8.17</th>\n",
       "      <th>16.17</th>\n",
       "      <th>6.35</th>\n",
       "      <th>7.35</th>\n",
       "      <th>8.35</th>\n",
       "      <th>16.35</th>\n",
       "      <th>6.53</th>\n",
       "      <th>7.53</th>\n",
       "      <th>8.53</th>\n",
       "      <th>16.53</th>\n",
       "    </tr>\n",
       "  </thead>\n",
       "  <tbody>\n",
       "    <tr>\n",
       "      <th>0</th>\n",
       "      <td>2.0</td>\n",
       "      <td>931</td>\n",
       "      <td>261</td>\n",
       "      <td>244</td>\n",
       "      <td>14</td>\n",
       "      <td>213</td>\n",
       "      <td>59</td>\n",
       "      <td>52</td>\n",
       "      <td>4</td>\n",
       "      <td>135</td>\n",
       "      <td>...</td>\n",
       "      <td>0</td>\n",
       "      <td>0</td>\n",
       "      <td>0</td>\n",
       "      <td>0</td>\n",
       "      <td>0</td>\n",
       "      <td>0</td>\n",
       "      <td>0</td>\n",
       "      <td>0</td>\n",
       "      <td>0</td>\n",
       "      <td>0</td>\n",
       "    </tr>\n",
       "    <tr>\n",
       "      <th>1</th>\n",
       "      <td>2.0</td>\n",
       "      <td>762</td>\n",
       "      <td>262</td>\n",
       "      <td>262</td>\n",
       "      <td>20</td>\n",
       "      <td>0</td>\n",
       "      <td>0</td>\n",
       "      <td>0</td>\n",
       "      <td>0</td>\n",
       "      <td>2050</td>\n",
       "      <td>...</td>\n",
       "      <td>0</td>\n",
       "      <td>0</td>\n",
       "      <td>0</td>\n",
       "      <td>0</td>\n",
       "      <td>0</td>\n",
       "      <td>0</td>\n",
       "      <td>0</td>\n",
       "      <td>0</td>\n",
       "      <td>0</td>\n",
       "      <td>0</td>\n",
       "    </tr>\n",
       "    <tr>\n",
       "      <th>2</th>\n",
       "      <td>2.0</td>\n",
       "      <td>966</td>\n",
       "      <td>313</td>\n",
       "      <td>394</td>\n",
       "      <td>9</td>\n",
       "      <td>1001</td>\n",
       "      <td>308</td>\n",
       "      <td>396</td>\n",
       "      <td>9</td>\n",
       "      <td>147</td>\n",
       "      <td>...</td>\n",
       "      <td>0</td>\n",
       "      <td>0</td>\n",
       "      <td>0</td>\n",
       "      <td>0</td>\n",
       "      <td>0</td>\n",
       "      <td>0</td>\n",
       "      <td>0</td>\n",
       "      <td>0</td>\n",
       "      <td>0</td>\n",
       "      <td>0</td>\n",
       "    </tr>\n",
       "    <tr>\n",
       "      <th>3</th>\n",
       "      <td>2.0</td>\n",
       "      <td>1799</td>\n",
       "      <td>509</td>\n",
       "      <td>472</td>\n",
       "      <td>13</td>\n",
       "      <td>0</td>\n",
       "      <td>0</td>\n",
       "      <td>0</td>\n",
       "      <td>0</td>\n",
       "      <td>615</td>\n",
       "      <td>...</td>\n",
       "      <td>0</td>\n",
       "      <td>0</td>\n",
       "      <td>0</td>\n",
       "      <td>0</td>\n",
       "      <td>0</td>\n",
       "      <td>0</td>\n",
       "      <td>0</td>\n",
       "      <td>0</td>\n",
       "      <td>0</td>\n",
       "      <td>0</td>\n",
       "    </tr>\n",
       "    <tr>\n",
       "      <th>4</th>\n",
       "      <td>2.0</td>\n",
       "      <td>886</td>\n",
       "      <td>232</td>\n",
       "      <td>262</td>\n",
       "      <td>3</td>\n",
       "      <td>326</td>\n",
       "      <td>85</td>\n",
       "      <td>97</td>\n",
       "      <td>0</td>\n",
       "      <td>327</td>\n",
       "      <td>...</td>\n",
       "      <td>0</td>\n",
       "      <td>0</td>\n",
       "      <td>0</td>\n",
       "      <td>0</td>\n",
       "      <td>0</td>\n",
       "      <td>0</td>\n",
       "      <td>0</td>\n",
       "      <td>0</td>\n",
       "      <td>0</td>\n",
       "      <td>0</td>\n",
       "    </tr>\n",
       "  </tbody>\n",
       "</table>\n",
       "<p>5 rows × 37 columns</p>\n",
       "</div>"
      ],
      "text/plain": [
       "   pbindaff   6.6  7.6  8.6  16.6   6.7  7.7  8.7  16.7   6.8  ...    8.17  \\\n",
       "0       2.0   931  261  244    14   213   59   52     4   135  ...       0   \n",
       "1       2.0   762  262  262    20     0    0    0     0  2050  ...       0   \n",
       "2       2.0   966  313  394     9  1001  308  396     9   147  ...       0   \n",
       "3       2.0  1799  509  472    13     0    0    0     0   615  ...       0   \n",
       "4       2.0   886  232  262     3   326   85   97     0   327  ...       0   \n",
       "\n",
       "   16.17  6.35  7.35  8.35  16.35  6.53  7.53  8.53  16.53  \n",
       "0      0     0     0     0      0     0     0     0      0  \n",
       "1      0     0     0     0      0     0     0     0      0  \n",
       "2      0     0     0     0      0     0     0     0      0  \n",
       "3      0     0     0     0      0     0     0     0      0  \n",
       "4      0     0     0     0      0     0     0     0      0  \n",
       "\n",
       "[5 rows x 37 columns]"
      ]
     },
     "execution_count": 66,
     "metadata": {},
     "output_type": "execute_result"
    }
   ],
   "source": [
    "train_df.head()"
   ]
  },
  {
   "cell_type": "code",
   "execution_count": 67,
   "metadata": {},
   "outputs": [
    {
     "data": {
      "text/plain": [
       "Index(['pbindaff', '6.6', '7.6', '8.6', '16.6', '6.7', '7.7', '8.7', '16.7',\n",
       "       '6.8', '7.8', '8.8', '16.8', '6.9', '7.9', '8.9', '16.9', '6.15',\n",
       "       '7.15', '8.15', '16.15', '6.16', '7.16', '8.16', '16.16', '6.17',\n",
       "       '7.17', '8.17', '16.17', '6.35', '7.35', '8.35', '16.35', '6.53',\n",
       "       '7.53', '8.53', '16.53'],\n",
       "      dtype='object')"
      ]
     },
     "execution_count": 67,
     "metadata": {},
     "output_type": "execute_result"
    }
   ],
   "source": [
    "train_df.keys()"
   ]
  },
  {
   "cell_type": "code",
   "execution_count": 68,
   "metadata": {},
   "outputs": [],
   "source": [
    "def create_custom_features(df):\n",
    "    df['c1'] = df.apply(lambda x: x['6.6'] * x['7.6'], axis=1)\n",
    "    df['c2'] = df.apply(lambda x: x['8.6'] * x['16.6'], axis=1)\n",
    "    df['c3'] = df.apply(lambda x: x['6.7'] * x['7.7'], axis=1)\n",
    "#     df['c4'] = df.apply(lambda x: x['8.7'] * x['16.7'], axis=1)\n",
    "#     df['c5'] = df.apply(lambda x: x['6.8'] * x['7.8'], axis=1)\n",
    "#     df['c6'] = df.apply(lambda x: x['8.8'] * x['16.8'], axis=1)\n",
    "    \n",
    "#     df['c7'] = df.apply(lambda x: x['6.6'] + x['7.6'], axis=1)\n",
    "#     df['c8'] = df.apply(lambda x: x['8.6'] + x['16.6'], axis=1)\n",
    "#     df['c9'] = df.apply(lambda x: x['6.7'] + x['7.7'], axis=1)\n",
    "#     df['c10'] = df.apply(lambda x: x['8.7'] + x['16.7'], axis=1)\n",
    "#     df['c11'] = df.apply(lambda x: x['6.8'] + x['7.8'], axis=1)\n",
    "#     df['c12'] = df.apply(lambda x: x['8.8'] + x['16.8'], axis=1)\n",
    "    \n",
    "#     df['c13'] = df.apply(lambda x: x['6.6'] / x['7.6'], axis=1)\n",
    "#     df['c14'] = df.apply(lambda x: x['8.6'] / x['16.6'], axis=1)\n",
    "#     df['c15'] = df.apply(lambda x: x['6.7'] / x['7.7'], axis=1)\n",
    "#     df['c16'] = df.apply(lambda x: x['8.7'] / x['16.7'], axis=1)\n",
    "#     df['c17'] = df.apply(lambda x: x['6.8'] / x['7.8'], axis=1)\n",
    "#     df['c18'] = df.apply(lambda x: x['8.8'] / x['16.8'], axis=1)\n",
    "    \n",
    "    return df"
   ]
  },
  {
   "cell_type": "code",
   "execution_count": 69,
   "metadata": {},
   "outputs": [],
   "source": [
    "train_df = create_custom_features(train_df)\n",
    "test_df = create_custom_features(test_df)"
   ]
  },
  {
   "cell_type": "code",
   "execution_count": 70,
   "metadata": {},
   "outputs": [
    {
     "name": "stdout",
     "output_type": "stream",
     "text": [
      "Fitting 3 folds for each of 35 candidates, totalling 105 fits\n"
     ]
    },
    {
     "name": "stderr",
     "output_type": "stream",
     "text": [
      "[Parallel(n_jobs=-1)]: Done 100 out of 105 | elapsed:   27.9s remaining:    1.4s\n",
      "[Parallel(n_jobs=-1)]: Done 105 out of 105 | elapsed:   29.9s finished\n"
     ]
    },
    {
     "data": {
      "text/plain": [
       "RandomForestRegressor(bootstrap=True, criterion='mse', max_depth=None,\n",
       "           max_features=3, max_leaf_nodes=None, min_impurity_split=1e-07,\n",
       "           min_samples_leaf=1, min_samples_split=2,\n",
       "           min_weight_fraction_leaf=0.0, n_estimators=500, n_jobs=1,\n",
       "           oob_score=True, random_state=1, verbose=False, warm_start=False)"
      ]
     },
     "execution_count": 70,
     "metadata": {},
     "output_type": "execute_result"
    }
   ],
   "source": [
    "param_grid = {\"n_estimators\": [500], \"max_features\": [i for i in range(2, len(selected_columns), 1)]}\n",
    "regressor = RandomForestRegressor(oob_score=True, random_state=1, verbose=False)\n",
    "model = GridSearchCV(estimator=regressor, n_jobs=-1, param_grid=param_grid, verbose=True)\n",
    "model.fit(train_df[train_df.columns[1:]].values, train_df[\"pbindaff\"].values)\n",
    "clf = model.best_estimator_\n",
    "clf"
   ]
  },
  {
   "cell_type": "code",
   "execution_count": 71,
   "metadata": {},
   "outputs": [
    {
     "name": "stdout",
     "output_type": "stream",
     "text": [
      "(0.9787921014819102, 0.0) (0.8149155528811943, 3.440282578794928e-70)\n"
     ]
    }
   ],
   "source": [
    "train_r = pearsonr(train_df[\"pbindaff\"].values, clf.predict(train_df[train_df.columns[1:]].values))\n",
    "test_r = pearsonr(test_df[\"pbindaff\"].values, clf.predict(test_df[test_df.columns[1:]].values))\n",
    "\n",
    "print(train_r, test_r)"
   ]
  },
  {
   "cell_type": "code",
   "execution_count": 6,
   "metadata": {},
   "outputs": [
    {
     "name": "stdout",
     "output_type": "stream",
     "text": [
      "(0.9794603803847578, 0.0) (0.8036327660052248, 7.132795428717045e-67)\n"
     ]
    }
   ],
   "source": [
    "train_r = pearsonr(train_df[\"pbindaff\"].values, clf.predict(train_df[train_df.columns[1:]].values))\n",
    "test_r = pearsonr(test_df[\"pbindaff\"].values, clf.predict(test_df[test_df.columns[1:]].values))\n",
    "\n",
    "print(train_r, test_r)"
   ]
  },
  {
   "cell_type": "code",
   "execution_count": 73,
   "metadata": {},
   "outputs": [
    {
     "name": "stdout",
     "output_type": "stream",
     "text": [
      "Size of the test set:  195\n",
      "(0.9007059291039606, 8.353913365948857e-72)\n"
     ]
    }
   ],
   "source": [
    "# testing on 2007 core set\n",
    "test_07_df = pd.read_csv(\"PDBbind_core07.csv\", usecols=selected_columns)\n",
    "test_07_df = create_custom_features(test_07_df)\n",
    "print(\"Size of the test set: \", len(test_07_df))\n",
    "test_07_r = pearsonr(test_07_df[\"pbindaff\"].values, clf.predict(test_07_df[test_07_df.columns[1:]].values))\n",
    "print(test_07_r)"
   ]
  },
  {
   "cell_type": "code",
   "execution_count": 7,
   "metadata": {},
   "outputs": [
    {
     "name": "stdout",
     "output_type": "stream",
     "text": [
      "(0.8991170695314169, 3.5719553560904124e-71)\n"
     ]
    }
   ],
   "source": [
    "# testing on 2007 core set\n",
    "test_07_df = pd.read_csv(\"PDBbind_core07.csv\", usecols=selected_columns)\n",
    "print(\"Size of the test set: \", len(test_07_df))\n",
    "test_07_r = pearsonr(test_07_df[\"pbindaff\"].values, clf.predict(test_07_df[test_07_df.columns[1:]].values))\n",
    "print(test_07_r)"
   ]
  },
  {
   "cell_type": "code",
   "execution_count": 9,
   "metadata": {},
   "outputs": [
    {
     "data": {
      "text/plain": [
       "['RFScore-v1_16']"
      ]
     },
     "execution_count": 9,
     "metadata": {},
     "output_type": "execute_result"
    }
   ],
   "source": [
    "# Save the model\n",
    "joblib.dump(clf, \"RFScore-v1_16\")"
   ]
  }
 ],
 "metadata": {
  "kernelspec": {
   "display_name": "Python 3",
   "language": "python",
   "name": "python3"
  },
  "language_info": {
   "codemirror_mode": {
    "name": "ipython",
    "version": 3
   },
   "file_extension": ".py",
   "mimetype": "text/x-python",
   "name": "python",
   "nbconvert_exporter": "python",
   "pygments_lexer": "ipython3",
   "version": "3.6.9"
  }
 },
 "nbformat": 4,
 "nbformat_minor": 4
}
